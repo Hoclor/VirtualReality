{
 "cells": [
  {
   "cell_type": "code",
   "execution_count": 1,
   "metadata": {},
   "outputs": [],
   "source": [
    "# Code for the coursework for the Virtual and Augmented Reality submodule in the Contemporary Computer Science IV module\n",
    "# version: 3.7.2"
   ]
  },
  {
   "cell_type": "code",
   "execution_count": null,
   "metadata": {},
   "outputs": [],
   "source": [
    "import numpy as np\n",
    "import pandas as pd\n",
    "import matplotlib.pyplot as plt\n",
    "from matplotlib.pyplot import figure\n",
    "\n",
    "# Create aliases for the headings of the IMU data for easier processing\n",
    "time   = 'time'\n",
    "gyro_X = ' gyroscope.X'\n",
    "gyro_Y = ' gyroscope.Y'\n",
    "gyro_Z = ' gyroscope.Z'\n",
    "acc_X  = ' accelerometer.X'\n",
    "acc_Y  = ' accelerometer.Y'\n",
    "acc_Z  = ' accelerometer.Z'\n",
    "mag_X  = ' magnetometer.X'\n",
    "mag_Y  = ' magnetometer.Y'\n",
    "mag_Z  = ' magnetometer.Z '\n",
    "\n",
    "# X is 'depth' (forward/backward) (i.e. roll)\n",
    "# Y is 'across' (left/right) (i.e. pitch)\n",
    "# Z is 'up' (up/down) (i.e. yaw)\n"
   ]
  },
  {
   "cell_type": "code",
   "execution_count": null,
   "metadata": {},
   "outputs": [],
   "source": [
    "# Read the IMU data from the .csv file\n",
    "IMU_Data = pd.read_csv(\"IMUData.csv\")"
   ]
  }
   ]
  },
  {
   "cell_type": "code",
   "execution_count": null,
   "metadata": {},
   "outputs": [],
   "source": []
  }
 ],
 "metadata": {
  "kernelspec": {
   "display_name": "Python 3",
   "language": "python",
   "name": "python3"
  },
  "language_info": {
   "codemirror_mode": {
    "name": "ipython",
    "version": 3
   },
   "file_extension": ".py",
   "mimetype": "text/x-python",
   "name": "python",
   "nbconvert_exporter": "python",
   "pygments_lexer": "ipython3",
   "version": "3.7.0"
  }
 },
 "nbformat": 4,
 "nbformat_minor": 2
}
