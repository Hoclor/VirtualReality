{
 "cells": [
  {
   "cell_type": "code",
   "execution_count": 1,
   "metadata": {},
   "outputs": [],
   "source": [
    "# Code for the coursework for the Virtual and Augmented Reality submodule in the Contemporary Computer Science IV module\n",
    "# version: 3.7.2"
   ]
  },
  {
   "cell_type": "code",
   "execution_count": null,
   "metadata": {},
   "outputs": [],
   "source": [
    "import numpy as np\n",
    "import pandas as pd\n",
    "import matplotlib.pyplot as plt\n",
    "from matplotlib.pyplot import figure\n",
    "\n",
    "# Create aliases for the headings of the IMU data for easier processing\n",
    "time   = 'time'\n",
    "gyro_X = ' gyroscope.X'\n",
    "gyro_Y = ' gyroscope.Y'\n",
    "gyro_Z = ' gyroscope.Z'\n",
    "acc_X  = ' accelerometer.X'\n",
    "acc_Y  = ' accelerometer.Y'\n",
    "acc_Z  = ' accelerometer.Z'\n",
    "mag_X  = ' magnetometer.X'\n",
    "mag_Y  = ' magnetometer.Y'\n",
    "mag_Z  = ' magnetometer.Z '\n",
    "\n",
    "# X is 'depth' (forward/backward) (i.e. roll)\n",
    "# Y is 'across' (left/right) (i.e. pitch)\n",
    "# Z is 'up' (up/down) (i.e. yaw)\n"
   ]
  },
  {
   "cell_type": "code",
   "execution_count": null,
   "metadata": {},
   "outputs": [],
   "source": [
    "# Read the IMU data from the .csv file\n",
    "IMU_Data = pd.read_csv(\"IMUData.csv\")"
   ]
  },
  {
   "cell_type": "code",
   "execution_count": null,
   "metadata": {
    "scrolled": true
   },
   "outputs": [],
   "source": [
    "#REMOVEME\n",
    "IMU_Data"
   ]
  },
  {
   "cell_type": "code",
   "execution_count": null,
   "metadata": {
    "scrolled": false
   },
   "outputs": [],
   "source": [
    "#REMOVEME Plot Gyro\n",
    "figure(figsize=(12, 8))\n",
    "plt.plot(IMU_Data[time], IMU_Data[gyro_X], label='X')\n",
    "plt.plot(IMU_Data[time], IMU_Data[gyro_Y], label='Y')\n",
    "plt.plot(IMU_Data[time], IMU_Data[gyro_Z], label='Z')\n",
    "\n",
    "plt.title(\"Gyroscope IMU Data\")\n",
    "plt.xlabel(\"Time (s)\")\n",
    "plt.ylabel(\"Angular velocity (rad/s)\")\n",
    "plt.legend(loc='upper right')\n",
    "plt.show()"
   ]
  },
  {
   "cell_type": "code",
   "execution_count": null,
   "metadata": {},
   "outputs": [],
   "source": [
    "#REMOVEME Plot Accelerometer\n",
    "figure(figsize=(12, 8))\n",
    "plt.plot(IMU_Data[time], IMU_Data[acc_X], label='X')\n",
    "plt.plot(IMU_Data[time], IMU_Data[acc_Y], label='Y')\n",
    "plt.plot(IMU_Data[time], IMU_Data[acc_Z], label='Z')\n",
    "\n",
    "plt.title(\"Normalized Accelerometer IMU Data\")\n",
    "plt.xlabel(\"Time (s)\")\n",
    "plt.ylabel(\"Acceleration in g ($m/s^2$)\")\n",
    "plt.legend(loc='lower right')\n",
    "plt.show()"
   ]
  },
  {
   "cell_type": "code",
   "execution_count": null,
   "metadata": {},
   "outputs": [],
   "source": [
    "#REMOVEME Plot Magnetometer\n",
    "figure(figsize=(12, 8))\n",
    "plt.plot(IMU_Data[time], IMU_Data[mag_X], label='X')\n",
    "plt.plot(IMU_Data[time], IMU_Data[mag_Y], label='Y')\n",
    "plt.plot(IMU_Data[time], IMU_Data[mag_Z], label='Z')\n",
    "\n",
    "plt.title(\"Normalized Magnetometer IMU Data\")\n",
    "plt.xlabel(\"Time (s)\")\n",
    "plt.ylabel(\"Flux in Gauss (G)\")\n",
    "plt.legend(loc='upper right')\n",
    "plt.show()"
   ]
  },
  {
   "cell_type": "code",
   "execution_count": null,
   "metadata": {},
   "outputs": [],
   "source": [
    "# Problem 1\n",
    "\n",
    "# Convert rotational rate from deg/s to radians/sec\n",
    "\n",
    "IMU_Data[gyro_X] = IMU_Data[gyro_X].apply(np.radians)\n",
    "IMU_Data[gyro_Y] = IMU_Data[gyro_Y].apply(np.radians)\n",
    "IMU_Data[gyro_Z] = IMU_Data[gyro_Z].apply(np.radians)\n",
    "\n",
    "# Normalize the accelerometer and magnetometer values\n",
    "\n",
    "def normalize(x, y, z):\n",
    "    \"\"\"Normalizes the magnitude of the given [X, Y, Z] vector\n",
    "    \n",
    "    \\in x: the x-axis value\n",
    "    \\in y: the y-axis value\n",
    "    \\in z: the z-axis value\n",
    "    \\out x_norm: the normalised x-axis value\n",
    "    \\out y_norm: the normalised y-axis value\n",
    "    \\out z_norm: the normalised z-axis value\n",
    "    \"\"\"\n",
    "    magnitude = np.sqrt(x**2 + y**2 + z**2)\n",
    "    \n",
    "    # Make sure magnitude != 0\n",
    "    if magnitude:\n",
    "        return x/magnitude, y/magnitude, z/magnitude\n",
    "    \n",
    "    # If magnitude = 0, return the vector as-is\n",
    "    return x, y, z\n",
    "\n",
    "for index, row in IMU_Data.iterrows():\n",
    "    row[acc_X], row[acc_Y], row[acc_Z] = normalize(row[acc_X], row[acc_Y], row[acc_Z])\n",
    "    row[mag_X], row[mag_Y], row[mag_Z] = normalize(row[mag_X], row[mag_Y], row[mag_Z])\n",
    "\n",
    "# Methods for converting Euler angles (radians) <---> quaternions\n",
    "\n",
    "def euler2quaternion(eulers):\n",
    "    \"\"\"Converts the given euler angles into a quaternion format\n",
    "    \n",
    "    \\in eulers: the input euler angles of format (roll, pitch, yaw)\n",
    "    \\out quat: the equivalent quaternion of format (w, x, y, z)\n",
    "    \"\"\"\n",
    "    # extract the euler angles\n",
    "    roll, pitch, yaw = eulers\n",
    "    \n",
    "    # Compute the sinusoidal values\n",
    "    cos_y = np.cos(yaw/2)\n",
    "    sin_y = np.sin(yaw/2)\n",
    "    cos_p = np.cos(pitch/2)\n",
    "    sin_p = np.sin(pitch/2)\n",
    "    cos_r = np.cos(roll/2)\n",
    "    sin_r = np.sin(roll/2)\n",
    "    \n",
    "    quat_w = cos_y * cos_p * cos_r + sin_y * sin_p * sin_r\n",
    "    quat_x = cos_y * cos_p * sin_r - sin_y * sin_p * cos_r\n",
    "    quat_y = sin_y * cos_p * sin_r + cos_y * sin_p * cos_r\n",
    "    quat_z = sin_y * cos_p * cos_r - cos_y * sin_p * sin_r\n",
    "    \n",
    "    return (quat_w, quat_x, quat_y, quat_z)\n",
    "\n",
    "def quaternion2euler(quat):\n",
    "    \"\"\"Converts the given quaternion into euler angle format\n",
    "    \n",
    "    \\in quat: the input quaternion of format (w, x, y, z)\n",
    "    \\out euler: the equivalent euler angles of format (roll, pitch, yaw)\n",
    "    \"\"\"\n",
    "    # extract the quaternion values\n",
    "    w, x, y, z = quat\n",
    "    \n",
    "    # Roll\n",
    "    roll  = np.arctan2(2 * (w*x + y*z), 1 - 2 * (x**2 + y**2))\n",
    "    # Pitch\n",
    "    asin_val = 2 * (w*y - z*x)\n",
    "    if abs(asin_val) >= 1:\n",
    "        # Use pi/2 as the value as the value is out of the range of arcsin\n",
    "        sign = 1 if asin_val >= 0 else -1\n",
    "        pitch = np.pi/2 * sign\n",
    "    else:\n",
    "        pitch = np.arcsin(asin_val)\n",
    "    # Yaw\n",
    "    yaw = np.arctan2(2 * (w*z + x*y), 1 - 2 * (y**2 + z**2))\n",
    "    \n",
    "    return (roll, pitch, yaw)\n",
    "    \n",
    "\n",
    "# Method for converting quaternion to its conjugate\n",
    "\n",
    "def conjugate_quaternion(quat):\n",
    "    \"\"\"Convert the given quaternion to its conjugate\n",
    "    \n",
    "    \\in quat: the input quaternion of format (w, x, y, z)\n",
    "    \\out out_quat: the quaternon conjugate of format (w, x, y, z)\n",
    "    \"\"\"\n",
    "    return (quat[0], -quat[1], -quat[2], -quat[3])\n",
    "\n",
    "# Method for calculating quaternion product of two quaternions\n",
    "def quaternion_product(quat1, quat2):\n",
    "    \"\"\"Calculate the product of the two quaternions\n",
    "    \n",
    "    \\in quat1: the first quaternion of format (w, x, y, z)\n",
    "    \\in quat2: the second quaternion of format (w, x, y, z)\n",
    "    \\out quat: the quaternion product of format (w, x, y, z)\n",
    "    \"\"\"\n",
    "    # Extract the quaternion values\n",
    "    w1, x1, y1, z1 = quat1\n",
    "    w2, x2, y2, z2 = quat2\n",
    "    \n",
    "    # Construct the quaternion product\n",
    "    w = w1*w2 - x1*x2 - y1*y2 - z1*z2\n",
    "    x = w1*x2 + x1*w2 + y1*z2 - z1*y2\n",
    "    y = w1*y2 - x1*z2 + y1*w2 + z1*x2\n",
    "    z = w1*z2 + x1*y2 - y1*x2 + z1*w2\n",
    "    \n",
    "    return (w, x, y, z)"
   ]
  },
  {
   "cell_type": "code",
   "execution_count": null,
   "metadata": {
    "scrolled": true
   },
   "outputs": [],
   "source": [
    "#REMOVEME\n",
    "IMU_Data\n",
    "\n",
    "test_euler = (np.pi/2, 0, np.pi/2)\n",
    "print(\"Euler: {}\".format(test_euler))\n",
    "test_quat = euler2quaternion(test_euler)\n",
    "print(\"Quaternion: {}\".format(test_quat))\n",
    "out_euler = quaternion2euler(test_quat)\n",
    "print(\"Euler: {}\".format(out_euler))"
   ]
  },
  {
   "cell_type": "code",
   "execution_count": null,
   "metadata": {
    "scrolled": false
   },
   "outputs": [],
   "source": [
    "#REMOVEME Plot Gyro\n",
    "figure(figsize=(12, 8))\n",
    "plt.plot(IMU_Data[time], IMU_Data[gyro_X], label='X')\n",
    "plt.plot(IMU_Data[time], IMU_Data[gyro_Y], label='Y')\n",
    "plt.plot(IMU_Data[time], IMU_Data[gyro_Z], label='Z')\n",
    "\n",
    "plt.title(\"Gyroscope IMU Data\")\n",
    "plt.xlabel(\"Time (s)\")\n",
    "plt.ylabel(\"Angular velocity (rad/s)\")\n",
    "plt.legend(loc='upper right')\n",
    "plt.show()"
   ]
  },
  {
   "cell_type": "code",
   "execution_count": null,
   "metadata": {
    "scrolled": false
   },
   "outputs": [],
   "source": [
    "# Problem 2\n",
    "\n",
    "head_orientation = pd.DataFrame(columns=['time', 'quaternion']) # List of quaternions corresponding to orientation at each time stamp\n",
    "head_orientation['time'] = IMU_Data['time'][:]\n",
    "\n",
    "def simple_dead_reckoning(last_orientation, last_time, current_time, gyroX, gyroY, gyroZ):\n",
    "    \"\"\"Performs simple dead reckoning to track the current head orientation by integrating\n",
    "    the gyroscope readings.\n",
    "    \n",
    "    \\in current_orientation: the last estimated orientation\n",
    "    \\in last_time: the time of the last estimated orientation\n",
    "    \\in current_time: the current time (corresponding to the gyro readings)\n",
    "    \\in gyro_[X, Y, Z]: the readings from the gyroscope corresponding to current_time\n",
    "    \\out current_orientation: the estimated current head orientation\n",
    "    \"\"\"\n",
    "    # Calculate the magnitude of the gyro readings\n",
    "    l = np.sqrt(gyroX ** 2 + gyroY ** 2 + gyroZ ** 2)\n",
    "    \n",
    "    # Normalize the gyro readings (so they can be used as axes in axis-angle representation)\n",
    "    gyroX /= l\n",
    "    gyroY /= l\n",
    "    gyroZ /= l\n",
    "    \n",
    "    # Calculate the angle of the rotation\n",
    "    theta = l*(current_time - last_time)\n",
    "    \n",
    "    # Create the quaternion from this axis-angle representation\n",
    "    change_quat = (np.cos(theta/2), gyroX*np.sin(theta/2), gyroY*np.sin(theta/2), gyroZ*np.sin(theta/2))\n",
    "\n",
    "    # Produce the current orientation by combining (multiplying) the last orientation and the change quaternion\n",
    "    current_orientation = quaternion_product(last_orientation, change_quat)\n",
    "    \n",
    "    return current_orientation\n",
    "\n",
    "# Initial orientation\n",
    "head_orientation.at[0, 'quaternion'] = (1, 0, 0, 0)\n",
    "for index in range(len(head_orientation)):\n",
    "    # Skip the first one as this has the value of the identity quaternion\n",
    "    if index != 0:\n",
    "        prev_row = head_orientation.iloc[index - 1]\n",
    "        x = IMU_Data[gyro_X][index]\n",
    "        y = IMU_Data[gyro_Y][index]\n",
    "        z = IMU_Data[gyro_Z][index]\n",
    "        last_time = prev_row[time]\n",
    "        # Estimate the current head position\n",
    "        head_orientation.at[index, 'quaternion'] = simple_dead_reckoning(\n",
    "            prev_row['quaternion'], last_time, head_orientation.iloc[index][time], x, y, z)\n"
   ]
  },
  {
   "cell_type": "code",
   "execution_count": null,
   "metadata": {
    "scrolled": true
   },
   "outputs": [],
   "source": [
    "#REMOVEME\n",
    "pd.set_option('max_colwidth', 100)\n",
    "head_orientation"
   ]
  }
   ]
  },
  {
   "cell_type": "code",
   "execution_count": null,
   "metadata": {},
   "outputs": [],
   "source": []
  }
 ],
 "metadata": {
  "kernelspec": {
   "display_name": "Python 3",
   "language": "python",
   "name": "python3"
  },
  "language_info": {
   "codemirror_mode": {
    "name": "ipython",
    "version": 3
   },
   "file_extension": ".py",
   "mimetype": "text/x-python",
   "name": "python",
   "nbconvert_exporter": "python",
   "pygments_lexer": "ipython3",
   "version": "3.7.0"
  }
 },
 "nbformat": 4,
 "nbformat_minor": 2
}
